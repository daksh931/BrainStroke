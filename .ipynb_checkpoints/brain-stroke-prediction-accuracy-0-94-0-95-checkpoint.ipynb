{
 "cells": [
  {
   "cell_type": "code",
   "execution_count": 1,
   "id": "1b87bea0",
   "metadata": {
    "execution": {
     "iopub.execute_input": "2022-08-08T08:54:22.996532Z",
     "iopub.status.busy": "2022-08-08T08:54:22.995801Z",
     "iopub.status.idle": "2022-08-08T08:54:23.011584Z",
     "shell.execute_reply": "2022-08-08T08:54:23.010381Z"
    },
    "papermill": {
     "duration": 0.029037,
     "end_time": "2022-08-08T08:54:23.014636",
     "exception": false,
     "start_time": "2022-08-08T08:54:22.985599",
     "status": "completed"
    },
    "tags": []
   },
   "outputs": [],
   "source": [
    "import numpy as np\n",
    "import pandas as pd\n",
    "import matplotlib.pyplot as plt"
   ]
  },
  {
   "cell_type": "code",
   "execution_count": 3,
   "id": "b7de5457",
   "metadata": {
    "execution": {
     "iopub.execute_input": "2022-08-08T08:54:23.030233Z",
     "iopub.status.busy": "2022-08-08T08:54:23.029539Z",
     "iopub.status.idle": "2022-08-08T08:54:23.082615Z",
     "shell.execute_reply": "2022-08-08T08:54:23.081604Z"
    },
    "papermill": {
     "duration": 0.063963,
     "end_time": "2022-08-08T08:54:23.085606",
     "exception": false,
     "start_time": "2022-08-08T08:54:23.021643",
     "status": "completed"
    },
    "tags": []
   },
   "outputs": [
    {
     "data": {
      "text/html": [
       "<div>\n",
       "<style scoped>\n",
       "    .dataframe tbody tr th:only-of-type {\n",
       "        vertical-align: middle;\n",
       "    }\n",
       "\n",
       "    .dataframe tbody tr th {\n",
       "        vertical-align: top;\n",
       "    }\n",
       "\n",
       "    .dataframe thead th {\n",
       "        text-align: right;\n",
       "    }\n",
       "</style>\n",
       "<table border=\"1\" class=\"dataframe\">\n",
       "  <thead>\n",
       "    <tr style=\"text-align: right;\">\n",
       "      <th></th>\n",
       "      <th>gender</th>\n",
       "      <th>age</th>\n",
       "      <th>hypertension</th>\n",
       "      <th>heart_disease</th>\n",
       "      <th>ever_married</th>\n",
       "      <th>work_type</th>\n",
       "      <th>Residence_type</th>\n",
       "      <th>avg_glucose_level</th>\n",
       "      <th>bmi</th>\n",
       "      <th>smoking_status</th>\n",
       "      <th>stroke</th>\n",
       "    </tr>\n",
       "  </thead>\n",
       "  <tbody>\n",
       "    <tr>\n",
       "      <th>0</th>\n",
       "      <td>Male</td>\n",
       "      <td>67.0</td>\n",
       "      <td>0</td>\n",
       "      <td>1</td>\n",
       "      <td>Yes</td>\n",
       "      <td>Private</td>\n",
       "      <td>Urban</td>\n",
       "      <td>228.69</td>\n",
       "      <td>36.6</td>\n",
       "      <td>formerly smoked</td>\n",
       "      <td>1</td>\n",
       "    </tr>\n",
       "    <tr>\n",
       "      <th>1</th>\n",
       "      <td>Male</td>\n",
       "      <td>80.0</td>\n",
       "      <td>0</td>\n",
       "      <td>1</td>\n",
       "      <td>Yes</td>\n",
       "      <td>Private</td>\n",
       "      <td>Rural</td>\n",
       "      <td>105.92</td>\n",
       "      <td>32.5</td>\n",
       "      <td>never smoked</td>\n",
       "      <td>1</td>\n",
       "    </tr>\n",
       "    <tr>\n",
       "      <th>2</th>\n",
       "      <td>Female</td>\n",
       "      <td>49.0</td>\n",
       "      <td>0</td>\n",
       "      <td>0</td>\n",
       "      <td>Yes</td>\n",
       "      <td>Private</td>\n",
       "      <td>Urban</td>\n",
       "      <td>171.23</td>\n",
       "      <td>34.4</td>\n",
       "      <td>smokes</td>\n",
       "      <td>1</td>\n",
       "    </tr>\n",
       "    <tr>\n",
       "      <th>3</th>\n",
       "      <td>Female</td>\n",
       "      <td>79.0</td>\n",
       "      <td>1</td>\n",
       "      <td>0</td>\n",
       "      <td>Yes</td>\n",
       "      <td>Self-employed</td>\n",
       "      <td>Rural</td>\n",
       "      <td>174.12</td>\n",
       "      <td>24.0</td>\n",
       "      <td>never smoked</td>\n",
       "      <td>1</td>\n",
       "    </tr>\n",
       "    <tr>\n",
       "      <th>4</th>\n",
       "      <td>Male</td>\n",
       "      <td>81.0</td>\n",
       "      <td>0</td>\n",
       "      <td>0</td>\n",
       "      <td>Yes</td>\n",
       "      <td>Private</td>\n",
       "      <td>Urban</td>\n",
       "      <td>186.21</td>\n",
       "      <td>29.0</td>\n",
       "      <td>formerly smoked</td>\n",
       "      <td>1</td>\n",
       "    </tr>\n",
       "  </tbody>\n",
       "</table>\n",
       "</div>"
      ],
      "text/plain": [
       "   gender   age  hypertension  heart_disease ever_married      work_type  \\\n",
       "0    Male  67.0             0              1          Yes        Private   \n",
       "1    Male  80.0             0              1          Yes        Private   \n",
       "2  Female  49.0             0              0          Yes        Private   \n",
       "3  Female  79.0             1              0          Yes  Self-employed   \n",
       "4    Male  81.0             0              0          Yes        Private   \n",
       "\n",
       "  Residence_type  avg_glucose_level   bmi   smoking_status  stroke  \n",
       "0          Urban             228.69  36.6  formerly smoked       1  \n",
       "1          Rural             105.92  32.5     never smoked       1  \n",
       "2          Urban             171.23  34.4           smokes       1  \n",
       "3          Rural             174.12  24.0     never smoked       1  \n",
       "4          Urban             186.21  29.0  formerly smoked       1  "
      ]
     },
     "execution_count": 3,
     "metadata": {},
     "output_type": "execute_result"
    }
   ],
   "source": [
    "df=pd.read_csv('full_data.csv')\n",
    "df.head()"
   ]
  },
  {
   "cell_type": "code",
   "execution_count": 4,
   "id": "751cf6c7",
   "metadata": {
    "execution": {
     "iopub.execute_input": "2022-08-08T08:54:23.102274Z",
     "iopub.status.busy": "2022-08-08T08:54:23.100935Z",
     "iopub.status.idle": "2022-08-08T08:54:23.108447Z",
     "shell.execute_reply": "2022-08-08T08:54:23.107653Z"
    },
    "papermill": {
     "duration": 0.018237,
     "end_time": "2022-08-08T08:54:23.110833",
     "exception": false,
     "start_time": "2022-08-08T08:54:23.092596",
     "status": "completed"
    },
    "tags": []
   },
   "outputs": [
    {
     "data": {
      "text/plain": [
       "(4981, 11)"
      ]
     },
     "execution_count": 4,
     "metadata": {},
     "output_type": "execute_result"
    }
   ],
   "source": [
    "df.shape"
   ]
  },
  {
   "cell_type": "code",
   "execution_count": 5,
   "id": "fbd8b63a",
   "metadata": {
    "execution": {
     "iopub.execute_input": "2022-08-08T08:54:23.126784Z",
     "iopub.status.busy": "2022-08-08T08:54:23.125833Z",
     "iopub.status.idle": "2022-08-08T08:54:23.154673Z",
     "shell.execute_reply": "2022-08-08T08:54:23.153523Z"
    },
    "papermill": {
     "duration": 0.040469,
     "end_time": "2022-08-08T08:54:23.158210",
     "exception": false,
     "start_time": "2022-08-08T08:54:23.117741",
     "status": "completed"
    },
    "tags": []
   },
   "outputs": [
    {
     "name": "stdout",
     "output_type": "stream",
     "text": [
      "<class 'pandas.core.frame.DataFrame'>\n",
      "RangeIndex: 4981 entries, 0 to 4980\n",
      "Data columns (total 11 columns):\n",
      " #   Column             Non-Null Count  Dtype  \n",
      "---  ------             --------------  -----  \n",
      " 0   gender             4981 non-null   object \n",
      " 1   age                4981 non-null   float64\n",
      " 2   hypertension       4981 non-null   int64  \n",
      " 3   heart_disease      4981 non-null   int64  \n",
      " 4   ever_married       4981 non-null   object \n",
      " 5   work_type          4981 non-null   object \n",
      " 6   Residence_type     4981 non-null   object \n",
      " 7   avg_glucose_level  4981 non-null   float64\n",
      " 8   bmi                4981 non-null   float64\n",
      " 9   smoking_status     4981 non-null   object \n",
      " 10  stroke             4981 non-null   int64  \n",
      "dtypes: float64(3), int64(3), object(5)\n",
      "memory usage: 428.2+ KB\n"
     ]
    }
   ],
   "source": [
    "df.info()"
   ]
  },
  {
   "cell_type": "code",
   "execution_count": 6,
   "id": "f72a4895",
   "metadata": {
    "execution": {
     "iopub.execute_input": "2022-08-08T08:54:23.175070Z",
     "iopub.status.busy": "2022-08-08T08:54:23.174197Z",
     "iopub.status.idle": "2022-08-08T08:54:23.185032Z",
     "shell.execute_reply": "2022-08-08T08:54:23.184051Z"
    },
    "papermill": {
     "duration": 0.021703,
     "end_time": "2022-08-08T08:54:23.187245",
     "exception": false,
     "start_time": "2022-08-08T08:54:23.165542",
     "status": "completed"
    },
    "tags": []
   },
   "outputs": [
    {
     "data": {
      "text/plain": [
       "gender               0\n",
       "age                  0\n",
       "hypertension         0\n",
       "heart_disease        0\n",
       "ever_married         0\n",
       "work_type            0\n",
       "Residence_type       0\n",
       "avg_glucose_level    0\n",
       "bmi                  0\n",
       "smoking_status       0\n",
       "stroke               0\n",
       "dtype: int64"
      ]
     },
     "execution_count": 6,
     "metadata": {},
     "output_type": "execute_result"
    }
   ],
   "source": [
    "df.isnull().sum()"
   ]
  },
  {
   "cell_type": "code",
   "execution_count": 7,
   "id": "fb749e3e",
   "metadata": {
    "execution": {
     "iopub.execute_input": "2022-08-08T08:54:23.203829Z",
     "iopub.status.busy": "2022-08-08T08:54:23.203030Z",
     "iopub.status.idle": "2022-08-08T08:54:24.359214Z",
     "shell.execute_reply": "2022-08-08T08:54:24.358029Z"
    },
    "papermill": {
     "duration": 1.168012,
     "end_time": "2022-08-08T08:54:24.362304",
     "exception": false,
     "start_time": "2022-08-08T08:54:23.194292",
     "status": "completed"
    },
    "tags": []
   },
   "outputs": [],
   "source": [
    "from sklearn.preprocessing import LabelEncoder"
   ]
  },
  {
   "cell_type": "code",
   "execution_count": null,
   "id": "7a228eb5",
   "metadata": {
    "execution": {
     "iopub.execute_input": "2022-08-08T08:54:24.381355Z",
     "iopub.status.busy": "2022-08-08T08:54:24.380908Z",
     "iopub.status.idle": "2022-08-08T08:54:24.385676Z",
     "shell.execute_reply": "2022-08-08T08:54:24.384857Z"
    },
    "papermill": {
     "duration": 0.016043,
     "end_time": "2022-08-08T08:54:24.387843",
     "exception": false,
     "start_time": "2022-08-08T08:54:24.371800",
     "status": "completed"
    },
    "tags": []
   },
   "outputs": [],
   "source": [
    "lab=LabelEncoder()"
   ]
  },
  {
   "cell_type": "code",
   "execution_count": null,
   "id": "496ae74a",
   "metadata": {
    "execution": {
     "iopub.execute_input": "2022-08-08T08:54:24.404792Z",
     "iopub.status.busy": "2022-08-08T08:54:24.404014Z",
     "iopub.status.idle": "2022-08-08T08:54:24.411641Z",
     "shell.execute_reply": "2022-08-08T08:54:24.410658Z"
    },
    "papermill": {
     "duration": 0.019268,
     "end_time": "2022-08-08T08:54:24.414274",
     "exception": false,
     "start_time": "2022-08-08T08:54:24.395006",
     "status": "completed"
    },
    "tags": []
   },
   "outputs": [],
   "source": [
    "df['smoking_status']=lab.fit_transform(df['smoking_status'])"
   ]
  },
  {
   "cell_type": "code",
   "execution_count": null,
   "id": "ebb0dbac",
   "metadata": {
    "execution": {
     "iopub.execute_input": "2022-08-08T08:54:24.430610Z",
     "iopub.status.busy": "2022-08-08T08:54:24.430144Z",
     "iopub.status.idle": "2022-08-08T08:54:24.443316Z",
     "shell.execute_reply": "2022-08-08T08:54:24.441930Z"
    },
    "papermill": {
     "duration": 0.024842,
     "end_time": "2022-08-08T08:54:24.446231",
     "exception": false,
     "start_time": "2022-08-08T08:54:24.421389",
     "status": "completed"
    },
    "tags": []
   },
   "outputs": [],
   "source": [
    "df['Residence_type']=lab.fit_transform(df['Residence_type'])\n",
    "df['work_type']=lab.fit_transform(df['work_type'])\n",
    "df['ever_married']= lab.fit_transform(df['ever_married'])"
   ]
  },
  {
   "cell_type": "code",
   "execution_count": null,
   "id": "573f3019",
   "metadata": {
    "execution": {
     "iopub.execute_input": "2022-08-08T08:54:24.463004Z",
     "iopub.status.busy": "2022-08-08T08:54:24.462502Z",
     "iopub.status.idle": "2022-08-08T08:54:24.480278Z",
     "shell.execute_reply": "2022-08-08T08:54:24.478706Z"
    },
    "papermill": {
     "duration": 0.029592,
     "end_time": "2022-08-08T08:54:24.482923",
     "exception": false,
     "start_time": "2022-08-08T08:54:24.453331",
     "status": "completed"
    },
    "tags": []
   },
   "outputs": [],
   "source": [
    "df.head()"
   ]
  },
  {
   "cell_type": "code",
   "execution_count": null,
   "id": "6b1895ca",
   "metadata": {
    "execution": {
     "iopub.execute_input": "2022-08-08T08:54:24.501147Z",
     "iopub.status.busy": "2022-08-08T08:54:24.500250Z",
     "iopub.status.idle": "2022-08-08T08:54:24.508621Z",
     "shell.execute_reply": "2022-08-08T08:54:24.507705Z"
    },
    "papermill": {
     "duration": 0.021289,
     "end_time": "2022-08-08T08:54:24.511536",
     "exception": false,
     "start_time": "2022-08-08T08:54:24.490247",
     "status": "completed"
    },
    "tags": []
   },
   "outputs": [],
   "source": [
    "df['gender']=lab.fit_transform(df['gender'])"
   ]
  },
  {
   "cell_type": "code",
   "execution_count": null,
   "id": "9fef2862",
   "metadata": {
    "execution": {
     "iopub.execute_input": "2022-08-08T08:54:24.529598Z",
     "iopub.status.busy": "2022-08-08T08:54:24.528645Z",
     "iopub.status.idle": "2022-08-08T08:54:24.546235Z",
     "shell.execute_reply": "2022-08-08T08:54:24.544793Z"
    },
    "papermill": {
     "duration": 0.029961,
     "end_time": "2022-08-08T08:54:24.549240",
     "exception": false,
     "start_time": "2022-08-08T08:54:24.519279",
     "status": "completed"
    },
    "tags": []
   },
   "outputs": [],
   "source": [
    "df.head()"
   ]
  },
  {
   "cell_type": "code",
   "execution_count": null,
   "id": "641373a2",
   "metadata": {
    "execution": {
     "iopub.execute_input": "2022-08-08T08:54:24.567402Z",
     "iopub.status.busy": "2022-08-08T08:54:24.566979Z",
     "iopub.status.idle": "2022-08-08T08:54:24.576881Z",
     "shell.execute_reply": "2022-08-08T08:54:24.575881Z"
    },
    "papermill": {
     "duration": 0.022858,
     "end_time": "2022-08-08T08:54:24.579917",
     "exception": false,
     "start_time": "2022-08-08T08:54:24.557059",
     "status": "completed"
    },
    "tags": []
   },
   "outputs": [],
   "source": [
    "x=df.drop(['stroke'], axis=1)\n",
    "y= df['stroke']"
   ]
  },
  {
   "cell_type": "code",
   "execution_count": null,
   "id": "76b2fd75",
   "metadata": {
    "execution": {
     "iopub.execute_input": "2022-08-08T08:54:24.597545Z",
     "iopub.status.busy": "2022-08-08T08:54:24.597084Z",
     "iopub.status.idle": "2022-08-08T08:54:24.671868Z",
     "shell.execute_reply": "2022-08-08T08:54:24.670299Z"
    },
    "papermill": {
     "duration": 0.086997,
     "end_time": "2022-08-08T08:54:24.674774",
     "exception": false,
     "start_time": "2022-08-08T08:54:24.587777",
     "status": "completed"
    },
    "tags": []
   },
   "outputs": [],
   "source": [
    "from sklearn.model_selection import train_test_split "
   ]
  },
  {
   "cell_type": "code",
   "execution_count": null,
   "id": "79a03d81",
   "metadata": {
    "execution": {
     "iopub.execute_input": "2022-08-08T08:54:24.692244Z",
     "iopub.status.busy": "2022-08-08T08:54:24.691776Z",
     "iopub.status.idle": "2022-08-08T08:54:24.705394Z",
     "shell.execute_reply": "2022-08-08T08:54:24.704314Z"
    },
    "papermill": {
     "duration": 0.025333,
     "end_time": "2022-08-08T08:54:24.708229",
     "exception": false,
     "start_time": "2022-08-08T08:54:24.682896",
     "status": "completed"
    },
    "tags": []
   },
   "outputs": [],
   "source": [
    "x_train, x_test,y_train,y_test=train_test_split(x,y,stratify=y, test_size=0.2)"
   ]
  },
  {
   "cell_type": "code",
   "execution_count": null,
   "id": "55ac597d",
   "metadata": {
    "execution": {
     "iopub.execute_input": "2022-08-08T08:54:24.726690Z",
     "iopub.status.busy": "2022-08-08T08:54:24.726007Z",
     "iopub.status.idle": "2022-08-08T08:54:24.863691Z",
     "shell.execute_reply": "2022-08-08T08:54:24.862381Z"
    },
    "papermill": {
     "duration": 0.150507,
     "end_time": "2022-08-08T08:54:24.866780",
     "exception": false,
     "start_time": "2022-08-08T08:54:24.716273",
     "status": "completed"
    },
    "tags": []
   },
   "outputs": [],
   "source": [
    "from xgboost import XGBRegressor"
   ]
  },
  {
   "cell_type": "markdown",
   "id": "4c177405",
   "metadata": {
    "papermill": {
     "duration": 0.007168,
     "end_time": "2022-08-08T08:54:24.881641",
     "exception": false,
     "start_time": "2022-08-08T08:54:24.874473",
     "status": "completed"
    },
    "tags": []
   },
   "source": []
  },
  {
   "cell_type": "code",
   "execution_count": null,
   "id": "cf266546",
   "metadata": {
    "execution": {
     "iopub.execute_input": "2022-08-08T08:54:24.898717Z",
     "iopub.status.busy": "2022-08-08T08:54:24.898283Z",
     "iopub.status.idle": "2022-08-08T08:54:24.903706Z",
     "shell.execute_reply": "2022-08-08T08:54:24.902480Z"
    },
    "papermill": {
     "duration": 0.016997,
     "end_time": "2022-08-08T08:54:24.906133",
     "exception": false,
     "start_time": "2022-08-08T08:54:24.889136",
     "status": "completed"
    },
    "tags": []
   },
   "outputs": [],
   "source": [
    "modl=XGBRegressor()"
   ]
  },
  {
   "cell_type": "code",
   "execution_count": null,
   "id": "55f8afe3",
   "metadata": {
    "execution": {
     "iopub.execute_input": "2022-08-08T08:54:24.923687Z",
     "iopub.status.busy": "2022-08-08T08:54:24.922910Z",
     "iopub.status.idle": "2022-08-08T08:54:25.008684Z",
     "shell.execute_reply": "2022-08-08T08:54:25.007274Z"
    },
    "papermill": {
     "duration": 0.097939,
     "end_time": "2022-08-08T08:54:25.011696",
     "exception": false,
     "start_time": "2022-08-08T08:54:24.913757",
     "status": "completed"
    },
    "tags": []
   },
   "outputs": [],
   "source": [
    "from sklearn.linear_model import LogisticRegression "
   ]
  },
  {
   "cell_type": "code",
   "execution_count": null,
   "id": "a71a4e34",
   "metadata": {
    "execution": {
     "iopub.execute_input": "2022-08-08T08:54:25.029193Z",
     "iopub.status.busy": "2022-08-08T08:54:25.028717Z",
     "iopub.status.idle": "2022-08-08T08:54:25.034567Z",
     "shell.execute_reply": "2022-08-08T08:54:25.033133Z"
    },
    "papermill": {
     "duration": 0.017765,
     "end_time": "2022-08-08T08:54:25.037252",
     "exception": false,
     "start_time": "2022-08-08T08:54:25.019487",
     "status": "completed"
    },
    "tags": []
   },
   "outputs": [],
   "source": [
    "model=LogisticRegression()"
   ]
  },
  {
   "cell_type": "code",
   "execution_count": null,
   "id": "659da2b1",
   "metadata": {
    "execution": {
     "iopub.execute_input": "2022-08-08T08:54:25.056010Z",
     "iopub.status.busy": "2022-08-08T08:54:25.055177Z",
     "iopub.status.idle": "2022-08-08T08:54:25.204455Z",
     "shell.execute_reply": "2022-08-08T08:54:25.202835Z"
    },
    "papermill": {
     "duration": 0.165857,
     "end_time": "2022-08-08T08:54:25.211171",
     "exception": false,
     "start_time": "2022-08-08T08:54:25.045314",
     "status": "completed"
    },
    "tags": []
   },
   "outputs": [],
   "source": [
    "model.fit(x_train, y_train)"
   ]
  },
  {
   "cell_type": "code",
   "execution_count": null,
   "id": "ebcd1b7a",
   "metadata": {
    "execution": {
     "iopub.execute_input": "2022-08-08T08:54:25.257477Z",
     "iopub.status.busy": "2022-08-08T08:54:25.254156Z",
     "iopub.status.idle": "2022-08-08T08:54:25.273086Z",
     "shell.execute_reply": "2022-08-08T08:54:25.271316Z"
    },
    "papermill": {
     "duration": 0.04727,
     "end_time": "2022-08-08T08:54:25.278297",
     "exception": false,
     "start_time": "2022-08-08T08:54:25.231027",
     "status": "completed"
    },
    "tags": []
   },
   "outputs": [],
   "source": [
    "train=model.predict(x_train)\n"
   ]
  },
  {
   "cell_type": "code",
   "execution_count": null,
   "id": "9d3c66da",
   "metadata": {
    "execution": {
     "iopub.execute_input": "2022-08-08T08:54:25.320624Z",
     "iopub.status.busy": "2022-08-08T08:54:25.319890Z",
     "iopub.status.idle": "2022-08-08T08:54:25.328200Z",
     "shell.execute_reply": "2022-08-08T08:54:25.326300Z"
    },
    "papermill": {
     "duration": 0.038629,
     "end_time": "2022-08-08T08:54:25.336914",
     "exception": false,
     "start_time": "2022-08-08T08:54:25.298285",
     "status": "completed"
    },
    "tags": []
   },
   "outputs": [],
   "source": [
    "from sklearn.metrics import accuracy_score "
   ]
  },
  {
   "cell_type": "code",
   "execution_count": null,
   "id": "68c71653",
   "metadata": {
    "execution": {
     "iopub.execute_input": "2022-08-08T08:54:25.379310Z",
     "iopub.status.busy": "2022-08-08T08:54:25.378546Z",
     "iopub.status.idle": "2022-08-08T08:54:25.389475Z",
     "shell.execute_reply": "2022-08-08T08:54:25.388406Z"
    },
    "papermill": {
     "duration": 0.034721,
     "end_time": "2022-08-08T08:54:25.391664",
     "exception": false,
     "start_time": "2022-08-08T08:54:25.356943",
     "status": "completed"
    },
    "tags": []
   },
   "outputs": [],
   "source": [
    "print(accuracy_score(train, y_train))"
   ]
  },
  {
   "cell_type": "code",
   "execution_count": null,
   "id": "2491eb0e",
   "metadata": {
    "execution": {
     "iopub.execute_input": "2022-08-08T08:54:25.409536Z",
     "iopub.status.busy": "2022-08-08T08:54:25.409105Z",
     "iopub.status.idle": "2022-08-08T08:54:25.427896Z",
     "shell.execute_reply": "2022-08-08T08:54:25.425878Z"
    },
    "papermill": {
     "duration": 0.03401,
     "end_time": "2022-08-08T08:54:25.433703",
     "exception": false,
     "start_time": "2022-08-08T08:54:25.399693",
     "status": "completed"
    },
    "tags": []
   },
   "outputs": [],
   "source": [
    "test=model.predict(x_test)\n",
    "print(accuracy_score(test, y_test))"
   ]
  }
 ],
 "metadata": {
  "kernelspec": {
   "display_name": "Python 3",
   "language": "python",
   "name": "python3"
  },
  "language_info": {
   "codemirror_mode": {
    "name": "ipython",
    "version": 3
   },
   "file_extension": ".py",
   "mimetype": "text/x-python",
   "name": "python",
   "nbconvert_exporter": "python",
   "pygments_lexer": "ipython3",
   "version": "3.8.8"
  },
  "papermill": {
   "default_parameters": {},
   "duration": 14.21529,
   "end_time": "2022-08-08T08:54:26.492444",
   "environment_variables": {},
   "exception": null,
   "input_path": "__notebook__.ipynb",
   "output_path": "__notebook__.ipynb",
   "parameters": {},
   "start_time": "2022-08-08T08:54:12.277154",
   "version": "2.3.4"
  }
 },
 "nbformat": 4,
 "nbformat_minor": 5
}
